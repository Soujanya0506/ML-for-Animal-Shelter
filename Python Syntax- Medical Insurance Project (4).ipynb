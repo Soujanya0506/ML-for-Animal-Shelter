{
 "cells": [
  {
   "cell_type": "code",
   "execution_count": 1,
   "metadata": {},
   "outputs": [],
   "source": [
    "import pandas as pd\n",
    "import numpy as np"
   ]
  },
  {
   "cell_type": "code",
   "execution_count": 2,
   "metadata": {},
   "outputs": [],
   "source": [
    "medical_insurance = pd.read_csv('Pthon/insurance.csv')"
   ]
  },
  {
   "cell_type": "code",
   "execution_count": 3,
   "metadata": {
    "scrolled": true
   },
   "outputs": [
    {
     "data": {
      "text/html": [
       "<div>\n",
       "<style scoped>\n",
       "    .dataframe tbody tr th:only-of-type {\n",
       "        vertical-align: middle;\n",
       "    }\n",
       "\n",
       "    .dataframe tbody tr th {\n",
       "        vertical-align: top;\n",
       "    }\n",
       "\n",
       "    .dataframe thead th {\n",
       "        text-align: right;\n",
       "    }\n",
       "</style>\n",
       "<table border=\"1\" class=\"dataframe\">\n",
       "  <thead>\n",
       "    <tr style=\"text-align: right;\">\n",
       "      <th></th>\n",
       "      <th>age</th>\n",
       "      <th>sex</th>\n",
       "      <th>bmi</th>\n",
       "      <th>children</th>\n",
       "      <th>smoker</th>\n",
       "      <th>region</th>\n",
       "      <th>charges</th>\n",
       "    </tr>\n",
       "  </thead>\n",
       "  <tbody>\n",
       "    <tr>\n",
       "      <th>0</th>\n",
       "      <td>19</td>\n",
       "      <td>female</td>\n",
       "      <td>27.900</td>\n",
       "      <td>0</td>\n",
       "      <td>yes</td>\n",
       "      <td>southwest</td>\n",
       "      <td>16884.92400</td>\n",
       "    </tr>\n",
       "    <tr>\n",
       "      <th>1</th>\n",
       "      <td>18</td>\n",
       "      <td>male</td>\n",
       "      <td>33.770</td>\n",
       "      <td>1</td>\n",
       "      <td>no</td>\n",
       "      <td>southeast</td>\n",
       "      <td>1725.55230</td>\n",
       "    </tr>\n",
       "    <tr>\n",
       "      <th>2</th>\n",
       "      <td>28</td>\n",
       "      <td>male</td>\n",
       "      <td>33.000</td>\n",
       "      <td>3</td>\n",
       "      <td>no</td>\n",
       "      <td>southeast</td>\n",
       "      <td>4449.46200</td>\n",
       "    </tr>\n",
       "    <tr>\n",
       "      <th>3</th>\n",
       "      <td>33</td>\n",
       "      <td>male</td>\n",
       "      <td>22.705</td>\n",
       "      <td>0</td>\n",
       "      <td>no</td>\n",
       "      <td>northwest</td>\n",
       "      <td>21984.47061</td>\n",
       "    </tr>\n",
       "    <tr>\n",
       "      <th>4</th>\n",
       "      <td>32</td>\n",
       "      <td>male</td>\n",
       "      <td>28.880</td>\n",
       "      <td>0</td>\n",
       "      <td>no</td>\n",
       "      <td>northwest</td>\n",
       "      <td>3866.85520</td>\n",
       "    </tr>\n",
       "  </tbody>\n",
       "</table>\n",
       "</div>"
      ],
      "text/plain": [
       "   age     sex     bmi  children smoker     region      charges\n",
       "0   19  female  27.900         0    yes  southwest  16884.92400\n",
       "1   18    male  33.770         1     no  southeast   1725.55230\n",
       "2   28    male  33.000         3     no  southeast   4449.46200\n",
       "3   33    male  22.705         0     no  northwest  21984.47061\n",
       "4   32    male  28.880         0     no  northwest   3866.85520"
      ]
     },
     "execution_count": 3,
     "metadata": {},
     "output_type": "execute_result"
    }
   ],
   "source": [
    "medical_insurance.head()"
   ]
  },
  {
   "cell_type": "code",
   "execution_count": 4,
   "metadata": {},
   "outputs": [],
   "source": [
    "age = 28\n",
    "smoker = 0\n",
    "sex = 0\n",
    "bmi = 26.2\n",
    "num_of_children = 3"
   ]
  },
  {
   "cell_type": "code",
   "execution_count": 5,
   "metadata": {},
   "outputs": [],
   "source": [
    "insurance_cost = 250 * age - 128 * sex + 370 * bmi + 425 * num_of_children + 24000 * smoker - 12500"
   ]
  },
  {
   "cell_type": "code",
   "execution_count": 6,
   "metadata": {},
   "outputs": [
    {
     "data": {
      "text/plain": [
       "5469.0"
      ]
     },
     "execution_count": 6,
     "metadata": {},
     "output_type": "execute_result"
    }
   ],
   "source": [
    "insurance_cost"
   ]
  },
  {
   "cell_type": "code",
   "execution_count": 7,
   "metadata": {},
   "outputs": [
    {
     "name": "stdout",
     "output_type": "stream",
     "text": [
      "This person's insurance cost is 5469.0 dollars.\n"
     ]
    }
   ],
   "source": [
    "print(\"This person's insurance cost is \" + str(insurance_cost) + \" dollars.\")"
   ]
  },
  {
   "cell_type": "code",
   "execution_count": 8,
   "metadata": {},
   "outputs": [
    {
     "name": "stdout",
     "output_type": "stream",
     "text": [
      "32\n"
     ]
    }
   ],
   "source": [
    "# Age Factor\n",
    "age += 4\n",
    "print(age)"
   ]
  },
  {
   "cell_type": "code",
   "execution_count": 9,
   "metadata": {},
   "outputs": [
    {
     "name": "stdout",
     "output_type": "stream",
     "text": [
      "6469.0\n"
     ]
    }
   ],
   "source": [
    "new_insurance_cost = 250 * age - 128 * sex + 370 * bmi + 425 * num_of_children + 24000 * smoker - 12500\n",
    "print(new_insurance_cost)"
   ]
  },
  {
   "cell_type": "code",
   "execution_count": 10,
   "metadata": {},
   "outputs": [
    {
     "name": "stdout",
     "output_type": "stream",
     "text": [
      "The change in cost of insurance after increasing the age by 4 years is 1000.0 dollars.\n"
     ]
    }
   ],
   "source": [
    "change_in_insurance_cost = new_insurance_cost - insurance_cost\n",
    "print(\"The change in cost of insurance after increasing the age by 4 years is \" + str(change_in_insurance_cost) + \" dollars.\")"
   ]
  },
  {
   "cell_type": "code",
   "execution_count": 11,
   "metadata": {},
   "outputs": [],
   "source": [
    "# BMI Factor\n",
    "age -= 4\n",
    "bmi += 3.1"
   ]
  },
  {
   "cell_type": "code",
   "execution_count": 12,
   "metadata": {},
   "outputs": [],
   "source": [
    "new_insurance_cost = 250 * age - 128 * sex + 370 * bmi + 425 * num_of_children + 24000 * smoker - 12500\n",
    "change_in_insurance_cost = new_insurance_cost - insurance_cost"
   ]
  },
  {
   "cell_type": "code",
   "execution_count": 13,
   "metadata": {},
   "outputs": [
    {
     "name": "stdout",
     "output_type": "stream",
     "text": [
      "The change in estimated insurance cost after increasing BMI by 1147.0 dollars.\n"
     ]
    }
   ],
   "source": [
    "print(\"The change in estimated insurance cost after increasing BMI by \" + str(change_in_insurance_cost) + \" dollars.\")"
   ]
  },
  {
   "cell_type": "code",
   "execution_count": 14,
   "metadata": {},
   "outputs": [],
   "source": [
    "# Male vs. Female Factor\n",
    "bmi = 26.2\n",
    "sex = 1"
   ]
  },
  {
   "cell_type": "code",
   "execution_count": 15,
   "metadata": {},
   "outputs": [],
   "source": [
    "new_insurance_cost = 250 * age - 128 * sex + 370 * bmi + 425 * num_of_children + 24000 * smoker - 12500\n",
    "change_in_insurance_cost = new_insurance_cost - insurance_cost"
   ]
  },
  {
   "cell_type": "code",
   "execution_count": 16,
   "metadata": {},
   "outputs": [
    {
     "name": "stdout",
     "output_type": "stream",
     "text": [
      "The change in estimated cost for being male instead of female is -128.0 dollars.\n"
     ]
    }
   ],
   "source": [
    "print(\"The change in estimated cost for being male instead of female is \" + str(change_in_insurance_cost) + \" dollars.\")"
   ]
  },
  {
   "cell_type": "code",
   "execution_count": 17,
   "metadata": {},
   "outputs": [],
   "source": [
    "# This means that men tend to have lower medical costs on average than women."
   ]
  },
  {
   "cell_type": "code",
   "execution_count": 18,
   "metadata": {},
   "outputs": [
    {
     "name": "stdout",
     "output_type": "stream",
     "text": [
      "The change in estimated cost after decreasing number of children is -850.0 dollars.\n"
     ]
    }
   ],
   "source": [
    "sex = 0\n",
    "num_of_children = 1\n",
    "\n",
    "new_insurance_cost = 250 * age - 128 * sex + 370 * bmi + 425 * num_of_children + 24000 * smoker - 12500\n",
    "change_in_insurance_cost = new_insurance_cost - insurance_cost\n",
    "print(\"The change in estimated cost after decreasing number of children is \" + str(change_in_insurance_cost) + \" dollars.\")"
   ]
  },
  {
   "cell_type": "code",
   "execution_count": 19,
   "metadata": {},
   "outputs": [],
   "source": [
    "age = 28\n",
    "smoker = 1\n",
    "sex = 0\n",
    "bmi = 26.2\n",
    "num_of_children = 3"
   ]
  },
  {
   "cell_type": "code",
   "execution_count": 20,
   "metadata": {},
   "outputs": [
    {
     "name": "stdout",
     "output_type": "stream",
     "text": [
      "The change in estimated cost for a smoker 24000.0 dollars.\n"
     ]
    }
   ],
   "source": [
    "new_insurance_cost = 250 * age - 128 * sex + 370 * bmi + 425 * num_of_children + 24000 * smoker - 12500\n",
    "change_in_insurance_cost = new_insurance_cost - insurance_cost\n",
    "print(\"The change in estimated cost for a smoker \"  + str(change_in_insurance_cost) + \" dollars.\")"
   ]
  },
  {
   "cell_type": "code",
   "execution_count": 21,
   "metadata": {},
   "outputs": [
    {
     "name": "stdout",
     "output_type": "stream",
     "text": [
      "The estimated insurance cost for Maria is 5469.0 dollars.\n"
     ]
    }
   ],
   "source": [
    "# Initial variables for Maria \n",
    "age = 28\n",
    "sex = 0  \n",
    "bmi = 26.2\n",
    "num_of_children = 3\n",
    "smoker = 0  \n",
    "\n",
    "# Estimate Maria's insurance cost\n",
    "insurance_cost = 250*age - 128*sex + 370*bmi + 425*num_of_children + 24000*smoker - 12500\n",
    "\n",
    "print(\"The estimated insurance cost for Maria is \" + str(insurance_cost) + \" dollars.\")"
   ]
  },
  {
   "cell_type": "code",
   "execution_count": 22,
   "metadata": {},
   "outputs": [
    {
     "name": "stdout",
     "output_type": "stream",
     "text": [
      "The estimated insurance cost for Omar is 28336.0 dollars.\n"
     ]
    }
   ],
   "source": [
    "# Initial variables for Omar\n",
    "age = 35\n",
    "sex = 1 \n",
    "bmi = 22.2\n",
    "num_of_children = 0\n",
    "smoker = 1  \n",
    "\n",
    "# Estimate Omar's insurance cost \n",
    "insurance_cost = 250*age - 128*sex + 370*bmi + 425*num_of_children + 24000*smoker - 12500\n",
    "\n",
    "print(\"The estimated insurance cost for Omar is \" + str(insurance_cost) + \" dollars.\")"
   ]
  },
  {
   "cell_type": "code",
   "execution_count": 27,
   "metadata": {},
   "outputs": [],
   "source": [
    "def calculate_insurance_cost(name, age, sex, bmi, num_of_children, smoker):\n",
    "    estimated_cost = 250*age - 128*sex + 370*bmi + 425*num_of_children + 24000*smoker - 12500\n",
    " \n",
    "    print(\"The estimated insurance cost for \" + name + \" is \" + str(estimated_cost) + \" dollars.\")\n",
    "    return estimated_cost\n"
   ]
  },
  {
   "cell_type": "code",
   "execution_count": 41,
   "metadata": {},
   "outputs": [
    {
     "name": "stdout",
     "output_type": "stream",
     "text": [
      "The estimated insurance cost for Gon is 5469.0 dollars.\n"
     ]
    },
    {
     "data": {
      "text/plain": [
       "5469.0"
      ]
     },
     "execution_count": 41,
     "metadata": {},
     "output_type": "execute_result"
    }
   ],
   "source": [
    "# age = 28\n",
    "# sex = 0  \n",
    "# bmi = 26.2\n",
    "# num_of_children = 3\n",
    "# smoker = 0 \n",
    "\n",
    "calculate_insurance_cost(\"Gon\",28, 0, 26.2, 3, 0)"
   ]
  },
  {
   "cell_type": "code",
   "execution_count": 32,
   "metadata": {},
   "outputs": [
    {
     "name": "stdout",
     "output_type": "stream",
     "text": [
      "The estimated insurance cost for Maria is 5469.0 dollars.\n"
     ]
    }
   ],
   "source": [
    "maria_insurance_cost = calculate_insurance_cost(name = \"Maria\", age = 28, sex = 0, bmi = 26.2, num_of_children = 3, smoker = 0)"
   ]
  },
  {
   "cell_type": "code",
   "execution_count": 33,
   "metadata": {},
   "outputs": [
    {
     "name": "stdout",
     "output_type": "stream",
     "text": [
      "The estimated insurance cost for Omar is 28336.0 dollars.\n"
     ]
    }
   ],
   "source": [
    "omar_insurance_cost = calculate_insurance_cost(name = \"Omar\", age = 35, sex = 1, bmi = 22.2, num_of_children = 0, smoker = 1)"
   ]
  },
  {
   "cell_type": "code",
   "execution_count": 34,
   "metadata": {},
   "outputs": [
    {
     "name": "stdout",
     "output_type": "stream",
     "text": [
      "The estimated insurance cost for Dola is 825.0 dollars.\n"
     ]
    }
   ],
   "source": [
    "my_insurance_cost = calculate_insurance_cost(\"Dola\",20,0,22.5,0,0)"
   ]
  },
  {
   "cell_type": "code",
   "execution_count": 35,
   "metadata": {},
   "outputs": [],
   "source": [
    "def difference(a,b):\n",
    "    Difference = b-a\n",
    "    print(\"The difference in insurance cost is \" + \" dollars.\")\n",
    "    return Difference "
   ]
  },
  {
   "cell_type": "code",
   "execution_count": 36,
   "metadata": {},
   "outputs": [
    {
     "name": "stdout",
     "output_type": "stream",
     "text": [
      "The difference in insurance cost is  dollars.\n"
     ]
    },
    {
     "data": {
      "text/plain": [
       "-4644.0"
      ]
     },
     "execution_count": 36,
     "metadata": {},
     "output_type": "execute_result"
    }
   ],
   "source": [
    "difference(maria_insurance_cost, my_insurance_cost)"
   ]
  },
  {
   "cell_type": "code",
   "execution_count": 37,
   "metadata": {},
   "outputs": [],
   "source": [
    "# Right now the function shows estimated cost of insurance but it will be helpful if we could find out how to reduce it.\n"
   ]
  },
  {
   "cell_type": "code",
   "execution_count": 40,
   "metadata": {},
   "outputs": [
    {
     "name": "stdout",
     "output_type": "stream",
     "text": [
      "Keanu's Estimated Insurance Cost: 29591.0 dollars.\n",
      "To lower your cost, you should consider quitting smoking.\n",
      "Smoking is not an issue for you.\n",
      "Your BMI is in the overweight range. To lower your cost, you should lower your BMI.In order to get normal bmi range, reduce 1.1999999999999993\n",
      "Dola's Estimated Insurance Cost: 714.0 dollars.\n",
      "Smoking is not an issue for you.\n",
      "Your BMI is in a healthy range.\n"
     ]
    }
   ],
   "source": [
    "# Add your code here\n",
    "def analyze_smoker(smoker_status):\n",
    "    if smoker_status == 1:\n",
    "      print(\"To lower your cost, you should consider quitting smoking.\")\n",
    "    try: \n",
    "      if bmi == 22.2 and smoker_status == 0:\n",
    "        print(\"Smoking is not an issue for you\")\n",
    "    except:\n",
    "      print(\"Keep it up! You are healthy\")\n",
    "\n",
    "    else:\n",
    "      print(\"Smoking is not an issue for you.\")\n",
    "\n",
    "def analyze_bmi(bmi_value):\n",
    "  if bmi_value > 30:\n",
    "    print(\"Your BMI is in the obese range. To lower your cost, you should significantly lower your BMI.\")\n",
    "  elif bmi_value >= 25 and bmi_value <= 30:\n",
    "    print(\"Your BMI is in the overweight range. To lower your cost, you should lower your BMI.In order to get normal bmi range, reduce \" + str(bmi_value - 25))\n",
    "  elif bmi_value >= 18.5 and bmi_value < 25:\n",
    "    print(\"Your BMI is in a healthy range.\")\n",
    "  else:\n",
    "    print(\"Your BMI is in the underweight range. Increasing your BMI will not help lower your cost, but it will help improve your health.\")\n",
    "\n",
    "# Function to estimate insurance cost:\n",
    "def estimate_insurance_cost(name, age, sex, bmi, num_of_children, smoker):\n",
    "  estimated_cost = 250*age - 128*sex + 370*bmi + 425*num_of_children + 24000*smoker - 12500\n",
    "  print(name + \"'s Estimated Insurance Cost: \" + str(estimated_cost) + \" dollars.\")\n",
    "  analyze_smoker(smoker)\n",
    "  analyze_bmi(bmi)\n",
    "  return estimated_cost\n",
    "  \n",
    "\n",
    " \n",
    "# Estimate Keanu's insurance cost\n",
    "keanu_insurance_cost = estimate_insurance_cost(name = 'Keanu', age = 29, sex = 1, bmi = 26.2, num_of_children = 3, smoker = 1)\n",
    "\n",
    "Dola_insurance_cost = estimate_insurance_cost(name = 'Dola', age = 20, sex = 0, bmi = 22.2, num_of_children = 0, smoker = 0)"
   ]
  },
  {
   "cell_type": "code",
   "execution_count": 39,
   "metadata": {},
   "outputs": [],
   "source": [
    "def analyze_bmi(bmi_value):\n",
    "  if bmi_value > 30:\n",
    "    print(\"Your BMI is in the obese range. To lower your cost, you should significantly lower your BMI.\",\"In order to get normal bmi range, reduce\" + str(bmi_value - 25))\n",
    "    \n",
    "  elif bmi_value >= 25 and bmi_value <= 30:\n",
    "    print(\"Your BMI is in the overweight range. To lower your cost, you should lower your BMI. In order to get normal bmi range, reduce \" + str(bmi_value - 25))\n",
    "    \n",
    "  elif bmi_value >= 18.5 and bmi_value < 25:\n",
    "    print(\"Your BMI is in a healthy range.\", bmi_value)\n",
    "  else:\n",
    "    print(\"Your BMI is in the underweight range. Increasing your BMI will not help lower your cost, but it will help improve your health.\")"
   ]
  },
  {
   "cell_type": "code",
   "execution_count": 1,
   "metadata": {},
   "outputs": [
    {
     "name": "stdout",
     "output_type": "stream",
     "text": [
      "Maria's Estimated Insurance Cost: 4222.0 dollars.\n",
      "Rohan's Estimated Insurance Cost: 5442.0 dollars.\n",
      "Valentina's Estimated Insurance Cost: 36368.0 dollars.\n"
     ]
    }
   ],
   "source": [
    "# Function to estimate insurance cost:\n",
    "def estimate_insurance_cost(name, age, sex, bmi, num_of_children, smoker):\n",
    "  estimated_cost = 250*age - 128*sex + 370*bmi + 425*num_of_children + 24000*smoker - 12500\n",
    "  print(name + \"'s Estimated Insurance Cost: \" + str(estimated_cost) + \" dollars.\")\n",
    "  return estimated_cost\n",
    " \n",
    "# Estimate Maria's insurance cost\n",
    "maria_insurance_cost = estimate_insurance_cost(name = \"Maria\", age = 31, sex = 0, bmi = 23.1, num_of_children = 1, smoker = 0)\n",
    "\n",
    "# Estimate Rohan's insurance cost\n",
    "rohan_insurance_cost = estimate_insurance_cost(name = \n",
    "\"Rohan\", age = 25, sex = 1, bmi = 28.5, num_of_children = 3, smoker = 0)\n",
    "\n",
    "# Estimate Valentina's insurance cost\n",
    "valentina_insurance_cost = estimate_insurance_cost(name = \"Valentina\", age = 53, sex = 0, bmi = 31.4, num_of_children = 0, smoker = 1)"
   ]
  },
  {
   "cell_type": "code",
   "execution_count": 3,
   "metadata": {},
   "outputs": [],
   "source": [
    "names = [\"Maria\",\"Rohan\", \"Valentina\"]"
   ]
  },
  {
   "cell_type": "code",
   "execution_count": 4,
   "metadata": {},
   "outputs": [],
   "source": [
    "insurance_costs = [4150.0, 5320.0, 35210.0]"
   ]
  },
  {
   "cell_type": "code",
   "execution_count": 6,
   "metadata": {},
   "outputs": [
    {
     "name": "stdout",
     "output_type": "stream",
     "text": [
      "<zip object at 0x000001F055C5F648>\n"
     ]
    }
   ],
   "source": [
    "insurance_data = zip(names, insurance_costs)\n",
    "print(insurance_data)"
   ]
  },
  {
   "cell_type": "code",
   "execution_count": 7,
   "metadata": {},
   "outputs": [],
   "source": [
    "insurance_data = list(zip(names, insurance_costs))"
   ]
  },
  {
   "cell_type": "code",
   "execution_count": 9,
   "metadata": {},
   "outputs": [
    {
     "data": {
      "text/plain": [
       "[('Maria', 4150.0), ('Rohan', 5320.0), ('Valentina', 35210.0)]"
      ]
     },
     "execution_count": 9,
     "metadata": {},
     "output_type": "execute_result"
    }
   ],
   "source": [
    "insurance_data"
   ]
  },
  {
   "cell_type": "code",
   "execution_count": 10,
   "metadata": {},
   "outputs": [],
   "source": [
    "estimated_insurance_data = []"
   ]
  },
  {
   "cell_type": "code",
   "execution_count": 12,
   "metadata": {},
   "outputs": [],
   "source": [
    "estimated_insurance_data.append((\"Maria\", maria_insurance_cost))\n",
    "estimated_insurance_data.append((\"Rohan\", rohan_insurance_cost))\n",
    "estimated_insurance_data.append((\"Valentina\", valentina_insurance_cost))"
   ]
  },
  {
   "cell_type": "code",
   "execution_count": 13,
   "metadata": {
    "scrolled": true
   },
   "outputs": [
    {
     "data": {
      "text/plain": [
       "[('Maria', 4222.0), ('Rohan', 5442.0), ('Valentina', 36368.0)]"
      ]
     },
     "execution_count": 13,
     "metadata": {},
     "output_type": "execute_result"
    }
   ],
   "source": [
    "estimated_insurance_data"
   ]
  },
  {
   "cell_type": "code",
   "execution_count": 14,
   "metadata": {},
   "outputs": [
    {
     "name": "stdout",
     "output_type": "stream",
     "text": [
      "Here is the actual insurance cost data: [('Maria', 4150.0), ('Rohan', 5320.0), ('Valentina', 35210.0)]\n"
     ]
    }
   ],
   "source": [
    "print(\"Here is the actual insurance cost data: \" + str(insurance_data))"
   ]
  },
  {
   "cell_type": "code",
   "execution_count": 15,
   "metadata": {
    "scrolled": true
   },
   "outputs": [
    {
     "name": "stdout",
     "output_type": "stream",
     "text": [
      "Here is the estimated insurance cost data: [('Maria', 4222.0), ('Rohan', 5442.0), ('Valentina', 36368.0)]\n"
     ]
    }
   ],
   "source": [
    "print(\"Here is the estimated insurance cost data: \" + str(estimated_insurance_data))"
   ]
  },
  {
   "cell_type": "code",
   "execution_count": 48,
   "metadata": {
    "scrolled": true
   },
   "outputs": [],
   "source": [
    "estimated_cost =[]"
   ]
  },
  {
   "cell_type": "code",
   "execution_count": 49,
   "metadata": {},
   "outputs": [],
   "source": [
    "estimated_cost.append(maria_insurance_cost)\n",
    "estimated_cost.append(rohan_insurance_cost)\n",
    "estimated_cost.append(valentina_insurance_cost)\n"
   ]
  },
  {
   "cell_type": "code",
   "execution_count": 52,
   "metadata": {},
   "outputs": [
    {
     "data": {
      "text/plain": [
       "[72.0, 122.0, 1158.0]"
      ]
     },
     "execution_count": 52,
     "metadata": {},
     "output_type": "execute_result"
    }
   ],
   "source": [
    "[x1 - x2 for (x1, x2) in zip(estimated_cost, insurance_costs)]"
   ]
  },
  {
   "cell_type": "code",
   "execution_count": 56,
   "metadata": {},
   "outputs": [
    {
     "name": "stdout",
     "output_type": "stream",
     "text": [
      "[(4222.0, 4150.0), (5442.0, 5320.0), (36368.0, 35210.0)]\n"
     ]
    }
   ],
   "source": [
    "print(list(zip(estimated_cost, insurance_costs)))"
   ]
  },
  {
   "cell_type": "code",
   "execution_count": 1,
   "metadata": {},
   "outputs": [],
   "source": [
    "names = [\"Mohamed\", \"Sara\", \"Xia\", \"Paul\", \"Valentina\", \"Jide\", \"Aaron\", \"Emily\", \"Nikita\", \"Paul\"]\n",
    "insurance_costs = [13262.0, 4816.0, 6839.0, 5054.0, 14724.0, 5360.0, 7640.0, 6072.0, 2750.0, 12064.0]"
   ]
  },
  {
   "cell_type": "code",
   "execution_count": 2,
   "metadata": {},
   "outputs": [],
   "source": [
    "names.append(\"Priscilla\")\n",
    "insurance_costs.append(8320.0)"
   ]
  },
  {
   "cell_type": "code",
   "execution_count": 3,
   "metadata": {},
   "outputs": [
    {
     "name": "stdout",
     "output_type": "stream",
     "text": [
      "[(13262.0, 'Mohamed'), (4816.0, 'Sara'), (6839.0, 'Xia'), (5054.0, 'Paul'), (14724.0, 'Valentina'), (5360.0, 'Jide'), (7640.0, 'Aaron'), (6072.0, 'Emily'), (2750.0, 'Nikita'), (12064.0, 'Paul'), (8320.0, 'Priscilla')]\n"
     ]
    }
   ],
   "source": [
    "medical_records = list(zip( insurance_costs, names))\n",
    "print(medical_records)"
   ]
  },
  {
   "cell_type": "code",
   "execution_count": 4,
   "metadata": {},
   "outputs": [
    {
     "name": "stdout",
     "output_type": "stream",
     "text": [
      "11\n"
     ]
    }
   ],
   "source": [
    "num_medical_records = len(medical_records)\n",
    "print(num_medical_records)"
   ]
  },
  {
   "cell_type": "code",
   "execution_count": 5,
   "metadata": {},
   "outputs": [],
   "source": [
    "first_medical_record = medical_records[0]"
   ]
  },
  {
   "cell_type": "code",
   "execution_count": 6,
   "metadata": {},
   "outputs": [
    {
     "name": "stdout",
     "output_type": "stream",
     "text": [
      "Here is the first medical record: (13262.0, 'Mohamed')\n"
     ]
    }
   ],
   "source": [
    "print(\"Here is the first medical record: \" + str(first_medical_record))"
   ]
  },
  {
   "cell_type": "code",
   "execution_count": 7,
   "metadata": {},
   "outputs": [
    {
     "name": "stdout",
     "output_type": "stream",
     "text": [
      "Here are the medical records sorted by insurance cost: [(2750.0, 'Nikita'), (4816.0, 'Sara'), (5054.0, 'Paul'), (5360.0, 'Jide'), (6072.0, 'Emily'), (6839.0, 'Xia'), (7640.0, 'Aaron'), (8320.0, 'Priscilla'), (12064.0, 'Paul'), (13262.0, 'Mohamed'), (14724.0, 'Valentina')]\n"
     ]
    }
   ],
   "source": [
    "medical_records.sort()\n",
    "print(\"Here are the medical records sorted by insurance cost: \" + str(medical_records))"
   ]
  },
  {
   "cell_type": "code",
   "execution_count": 8,
   "metadata": {},
   "outputs": [],
   "source": [
    "cheapest_three = medical_records[:3]"
   ]
  },
  {
   "cell_type": "code",
   "execution_count": 9,
   "metadata": {},
   "outputs": [
    {
     "name": "stdout",
     "output_type": "stream",
     "text": [
      "Here are the three cheapest insurance costs in our medical records: [(2750.0, 'Nikita'), (4816.0, 'Sara'), (5054.0, 'Paul')]\n"
     ]
    }
   ],
   "source": [
    "print(\"Here are the three cheapest insurance costs in our medical records: \" + str(cheapest_three))"
   ]
  },
  {
   "cell_type": "code",
   "execution_count": 10,
   "metadata": {},
   "outputs": [],
   "source": [
    "priciest_three = medical_records[-3:]"
   ]
  },
  {
   "cell_type": "code",
   "execution_count": 11,
   "metadata": {},
   "outputs": [
    {
     "name": "stdout",
     "output_type": "stream",
     "text": [
      "Here are the three most expensive insurance costs in our medical records: [(12064.0, 'Paul'), (13262.0, 'Mohamed'), (14724.0, 'Valentina')]\n"
     ]
    }
   ],
   "source": [
    "print(\"Here are the three most expensive insurance costs in our medical records: \" + str(priciest_three))"
   ]
  },
  {
   "cell_type": "code",
   "execution_count": 12,
   "metadata": {},
   "outputs": [],
   "source": [
    "occurrences_paul = names.count(\"Paul\")"
   ]
  },
  {
   "cell_type": "code",
   "execution_count": 13,
   "metadata": {},
   "outputs": [
    {
     "name": "stdout",
     "output_type": "stream",
     "text": [
      "There are 2 individuals with the name Paul in our medical records.\n"
     ]
    }
   ],
   "source": [
    "print(\"There are \" + str(occurrences_paul) + \" individuals with the name Paul in our medical records.\")"
   ]
  },
  {
   "cell_type": "code",
   "execution_count": 14,
   "metadata": {},
   "outputs": [],
   "source": [
    "names_list = list(zip(names,insurance_costs))"
   ]
  },
  {
   "cell_type": "code",
   "execution_count": 15,
   "metadata": {},
   "outputs": [],
   "source": [
    "names_list.sort()"
   ]
  },
  {
   "cell_type": "code",
   "execution_count": 16,
   "metadata": {},
   "outputs": [
    {
     "name": "stdout",
     "output_type": "stream",
     "text": [
      "[('Aaron', 7640.0), ('Emily', 6072.0), ('Jide', 5360.0), ('Mohamed', 13262.0), ('Nikita', 2750.0), ('Paul', 5054.0), ('Paul', 12064.0), ('Priscilla', 8320.0), ('Sara', 4816.0), ('Valentina', 14724.0), ('Xia', 6839.0)]\n"
     ]
    }
   ],
   "source": [
    "print(names_list)"
   ]
  },
  {
   "cell_type": "code",
   "execution_count": 17,
   "metadata": {},
   "outputs": [],
   "source": [
    "middle_five_records = names_list[3:7]"
   ]
  },
  {
   "cell_type": "code",
   "execution_count": 18,
   "metadata": {},
   "outputs": [
    {
     "data": {
      "text/plain": [
       "[('Mohamed', 13262.0), ('Nikita', 2750.0), ('Paul', 5054.0), ('Paul', 12064.0)]"
      ]
     },
     "execution_count": 18,
     "metadata": {},
     "output_type": "execute_result"
    }
   ],
   "source": [
    "middle_five_records"
   ]
  },
  {
   "cell_type": "code",
   "execution_count": 1,
   "metadata": {},
   "outputs": [],
   "source": [
    "names = [\"Judith\", \"Abel\", \"Tyson\", \"Martha\", \"Beverley\", \"David\", \"Anabel\"]\n",
    "estimated_insurance_costs = [1000.0, 2000.0, 3000.0, 4000.0, 5000.0, 6000.0, 7000.0]\n",
    "actual_insurance_costs = [1100.0, 2200.0, 3300.0, 4400.0, 5500.0, 6600.0, 7700.0]"
   ]
  },
  {
   "cell_type": "code",
   "execution_count": 2,
   "metadata": {},
   "outputs": [],
   "source": [
    "total_cost = 0"
   ]
  },
  {
   "cell_type": "code",
   "execution_count": 3,
   "metadata": {},
   "outputs": [],
   "source": [
    "for insurance_cost in actual_insurance_costs:\n",
    "  total_cost += insurance_cost"
   ]
  },
  {
   "cell_type": "code",
   "execution_count": 4,
   "metadata": {},
   "outputs": [],
   "source": [
    "average_cost = total_cost/len(actual_insurance_costs)"
   ]
  },
  {
   "cell_type": "code",
   "execution_count": 5,
   "metadata": {},
   "outputs": [
    {
     "name": "stdout",
     "output_type": "stream",
     "text": [
      "Average insurance cost: 4400.0 dollars.\n"
     ]
    }
   ],
   "source": [
    "print(\"Average insurance cost: \" + str(average_cost) + \" dollars.\")"
   ]
  },
  {
   "cell_type": "code",
   "execution_count": 7,
   "metadata": {},
   "outputs": [
    {
     "name": "stdout",
     "output_type": "stream",
     "text": [
      "The insurance cost for Judith is 1100.0 dollars.\n",
      "The insurance cost for Abel is 2200.0 dollars.\n",
      "The insurance cost for Tyson is 3300.0 dollars.\n",
      "The insurance cost for Martha is 4400.0 dollars.\n",
      "The insurance cost for Beverley is 5500.0 dollars.\n",
      "The insurance cost for David is 6600.0 dollars.\n",
      "The insurance cost for Anabel is 7700.0 dollars.\n"
     ]
    }
   ],
   "source": [
    "for i in range(len(names)):\n",
    "    name = names[i]\n",
    "    insurance_cost = actual_insurance_costs[i]\n",
    "    print(\"The insurance cost for \" + name + \" is \" + str(insurance_cost) + \" dollars.\")    \n",
    "    "
   ]
  },
  {
   "cell_type": "code",
   "execution_count": 8,
   "metadata": {},
   "outputs": [
    {
     "name": "stdout",
     "output_type": "stream",
     "text": [
      "The insurance cost for Judith is 1100.0 dollars.\n",
      "The insurance cost for Judith is below average.\n",
      "The insurance cost for Abel is 2200.0 dollars.\n",
      "The insurance cost for Abel is below average.\n",
      "The insurance cost for Tyson is 3300.0 dollars.\n",
      "The insurance cost for Tyson is below average.\n",
      "The insurance cost for Martha is 4400.0 dollars.\n",
      "The insurance cost for Martha is equal to the average.\n",
      "The insurance cost for Beverley is 5500.0 dollars.\n",
      "The insurance cost for Beverley is above average.\n",
      "The insurance cost for David is 6600.0 dollars.\n",
      "The insurance cost for David is above average.\n",
      "The insurance cost for Anabel is 7700.0 dollars.\n",
      "The insurance cost for Anabel is above average.\n"
     ]
    }
   ],
   "source": [
    "for i in range(len(names)):\n",
    "    name = names[i]\n",
    "    insurance_cost = actual_insurance_costs[i]\n",
    "    print(\"The insurance cost for \" + name + \" is \" + str(insurance_cost) + \" dollars.\")\n",
    "    \n",
    "    if insurance_cost > average_cost:\n",
    "        print(\"The insurance cost for \" + name + \" is above average.\")\n",
    "    elif insurance_cost < average_cost:\n",
    "        print(\"The insurance cost for \" + name + \" is below average.\")\n",
    "    else:\n",
    "        print(\"The insurance cost for \" + name + \" is equal to the average.\")        "
   ]
  },
  {
   "cell_type": "code",
   "execution_count": 9,
   "metadata": {},
   "outputs": [],
   "source": [
    "updated_estimated_costs = [estimated_cost * 11/10 for estimated_cost in estimated_insurance_costs]"
   ]
  },
  {
   "cell_type": "code",
   "execution_count": 10,
   "metadata": {},
   "outputs": [
    {
     "name": "stdout",
     "output_type": "stream",
     "text": [
      "[1100.0, 2200.0, 3300.0, 4400.0, 5500.0, 6600.0, 7700.0]\n"
     ]
    }
   ],
   "source": [
    "print(updated_estimated_costs)"
   ]
  },
  {
   "cell_type": "markdown",
   "metadata": {},
   "source": [
    "# Extra Task to be done\n",
    "- Convert the first for loop in the code to a while loop.\n",
    "- Modify the second for loop so that it also calculates how far above or below the average the estimated insurance cost is."
   ]
  },
  {
   "cell_type": "code",
   "execution_count": null,
   "metadata": {},
   "outputs": [],
   "source": []
  }
 ],
 "metadata": {
  "kernelspec": {
   "display_name": "Python 3",
   "language": "python",
   "name": "python3"
  },
  "language_info": {
   "codemirror_mode": {
    "name": "ipython",
    "version": 3
   },
   "file_extension": ".py",
   "mimetype": "text/x-python",
   "name": "python",
   "nbconvert_exporter": "python",
   "pygments_lexer": "ipython3",
   "version": "3.7.6"
  }
 },
 "nbformat": 4,
 "nbformat_minor": 4
}
